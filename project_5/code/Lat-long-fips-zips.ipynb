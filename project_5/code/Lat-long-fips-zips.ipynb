{
 "cells": [
  {
   "cell_type": "markdown",
   "metadata": {},
   "source": [
    "## Location Database for interfacing data"
   ]
  },
  {
   "cell_type": "markdown",
   "metadata": {},
   "source": [
    "***NOTE: The resulting CSV here includes latitude and longitude data of the counties associated with the fips codes but does not have the specific latitude and longitude data for the cities and zip codes.  This is a specific reference for a visual API and not intended to be used to associate the lattitude and longitude numbers with the cities or zip codes.***\n",
    "\n",
    "This dataframe and associated CSV connects all of the fips ids, zip codes, county and atate names, and the latitude/longitude data in the United States."
   ]
  },
  {
   "cell_type": "code",
   "execution_count": 1,
   "metadata": {},
   "outputs": [],
   "source": [
    "import numpy as np\n",
    "import pandas as pd\n"
   ]
  },
  {
   "cell_type": "code",
   "execution_count": 9,
   "metadata": {},
   "outputs": [],
   "source": [
    "path_to_home = '../'\n",
    "path_to_data = path_to_home+'data/BIG-QUERY/fips_zips/data/'\n",
    "filename = path_to_data+'zip_county_fips_2018_03.csv'"
   ]
  },
  {
   "cell_type": "markdown",
   "metadata": {},
   "source": [
    "We set the paths above so that we can easily change this file later if we move it to a different directory. Now import the data files.  The first one is called 'datapackage.json'. Later, use the same format but reset the 'filename' variable."
   ]
  },
  {
   "cell_type": "code",
   "execution_count": 10,
   "metadata": {},
   "outputs": [
    {
     "data": {
      "text/html": [
       "<div>\n",
       "<style scoped>\n",
       "    .dataframe tbody tr th:only-of-type {\n",
       "        vertical-align: middle;\n",
       "    }\n",
       "\n",
       "    .dataframe tbody tr th {\n",
       "        vertical-align: top;\n",
       "    }\n",
       "\n",
       "    .dataframe thead th {\n",
       "        text-align: right;\n",
       "    }\n",
       "</style>\n",
       "<table border=\"1\" class=\"dataframe\">\n",
       "  <thead>\n",
       "    <tr style=\"text-align: right;\">\n",
       "      <th></th>\n",
       "      <th>zip</th>\n",
       "      <th>stcountyfp</th>\n",
       "      <th>city</th>\n",
       "      <th>state</th>\n",
       "      <th>countyname</th>\n",
       "      <th>classfp</th>\n",
       "    </tr>\n",
       "  </thead>\n",
       "  <tbody>\n",
       "    <tr>\n",
       "      <th>0</th>\n",
       "      <td>36091</td>\n",
       "      <td>1001</td>\n",
       "      <td>Verbena</td>\n",
       "      <td>AL</td>\n",
       "      <td>Autauga County</td>\n",
       "      <td>H1</td>\n",
       "    </tr>\n",
       "    <tr>\n",
       "      <th>1</th>\n",
       "      <td>36758</td>\n",
       "      <td>1001</td>\n",
       "      <td>Plantersville</td>\n",
       "      <td>AL</td>\n",
       "      <td>Autauga County</td>\n",
       "      <td>H1</td>\n",
       "    </tr>\n",
       "    <tr>\n",
       "      <th>2</th>\n",
       "      <td>36006</td>\n",
       "      <td>1001</td>\n",
       "      <td>Billingsley</td>\n",
       "      <td>AL</td>\n",
       "      <td>Autauga County</td>\n",
       "      <td>H1</td>\n",
       "    </tr>\n",
       "    <tr>\n",
       "      <th>3</th>\n",
       "      <td>36067</td>\n",
       "      <td>1001</td>\n",
       "      <td>Prattville</td>\n",
       "      <td>AL</td>\n",
       "      <td>Autauga County</td>\n",
       "      <td>H1</td>\n",
       "    </tr>\n",
       "    <tr>\n",
       "      <th>4</th>\n",
       "      <td>36701</td>\n",
       "      <td>1001</td>\n",
       "      <td>Selma</td>\n",
       "      <td>AL</td>\n",
       "      <td>Autauga County</td>\n",
       "      <td>H1</td>\n",
       "    </tr>\n",
       "  </tbody>\n",
       "</table>\n",
       "</div>"
      ],
      "text/plain": [
       "     zip  stcountyfp           city state      countyname classfp\n",
       "0  36091        1001        Verbena    AL  Autauga County      H1\n",
       "1  36758        1001  Plantersville    AL  Autauga County      H1\n",
       "2  36006        1001    Billingsley    AL  Autauga County      H1\n",
       "3  36067        1001     Prattville    AL  Autauga County      H1\n",
       "4  36701        1001          Selma    AL  Autauga County      H1"
      ]
     },
     "execution_count": 10,
     "metadata": {},
     "output_type": "execute_result"
    }
   ],
   "source": [
    "fips_df = pd.read_csv(filename)\n",
    "fips_df.head()"
   ]
  },
  {
   "cell_type": "code",
   "execution_count": 11,
   "metadata": {},
   "outputs": [
    {
     "data": {
      "text/plain": [
       "(53962, 6)"
      ]
     },
     "execution_count": 11,
     "metadata": {},
     "output_type": "execute_result"
    }
   ],
   "source": [
    "fips_df.shape"
   ]
  },
  {
   "cell_type": "code",
   "execution_count": 31,
   "metadata": {},
   "outputs": [],
   "source": [
    "fips_df.rename(columns=({'stcountyfp': 'fips', 'countyname': 'county_name'}), inplace=True)"
   ]
  },
  {
   "cell_type": "code",
   "execution_count": 32,
   "metadata": {},
   "outputs": [
    {
     "name": "stdout",
     "output_type": "stream",
     "text": [
      "<class 'pandas.core.frame.DataFrame'>\n",
      "RangeIndex: 53962 entries, 0 to 53961\n",
      "Data columns (total 6 columns):\n",
      " #   Column       Non-Null Count  Dtype \n",
      "---  ------       --------------  ----- \n",
      " 0   zip          53962 non-null  int64 \n",
      " 1   fips         53962 non-null  int64 \n",
      " 2   city         53962 non-null  object\n",
      " 3   state        53962 non-null  object\n",
      " 4   county_name  53962 non-null  object\n",
      " 5   classfp      53962 non-null  object\n",
      "dtypes: int64(2), object(4)\n",
      "memory usage: 2.5+ MB\n"
     ]
    }
   ],
   "source": [
    "fips_df.info()"
   ]
  },
  {
   "cell_type": "markdown",
   "metadata": {},
   "source": [
    "## Great. Now try searching this new dataframe for some known zip codes."
   ]
  },
  {
   "cell_type": "code",
   "execution_count": 19,
   "metadata": {},
   "outputs": [
    {
     "data": {
      "text/html": [
       "<div>\n",
       "<style scoped>\n",
       "    .dataframe tbody tr th:only-of-type {\n",
       "        vertical-align: middle;\n",
       "    }\n",
       "\n",
       "    .dataframe tbody tr th {\n",
       "        vertical-align: top;\n",
       "    }\n",
       "\n",
       "    .dataframe thead th {\n",
       "        text-align: right;\n",
       "    }\n",
       "</style>\n",
       "<table border=\"1\" class=\"dataframe\">\n",
       "  <thead>\n",
       "    <tr style=\"text-align: right;\">\n",
       "      <th></th>\n",
       "      <th>zip</th>\n",
       "      <th>stcountyfp</th>\n",
       "      <th>city</th>\n",
       "      <th>state</th>\n",
       "      <th>countyname</th>\n",
       "      <th>classfp</th>\n",
       "    </tr>\n",
       "  </thead>\n",
       "  <tbody>\n",
       "    <tr>\n",
       "      <th>4869</th>\n",
       "      <td>94115</td>\n",
       "      <td>6075</td>\n",
       "      <td>San francisco</td>\n",
       "      <td>CA</td>\n",
       "      <td>San Francisco County</td>\n",
       "      <td>H6</td>\n",
       "    </tr>\n",
       "  </tbody>\n",
       "</table>\n",
       "</div>"
      ],
      "text/plain": [
       "        zip  stcountyfp           city state            countyname classfp\n",
       "4869  94115        6075  San francisco    CA  San Francisco County      H6"
      ]
     },
     "execution_count": 19,
     "metadata": {},
     "output_type": "execute_result"
    }
   ],
   "source": [
    "# testzip = 3054  # Merrimack, New Hampshire\n",
    "# testzip = 95060  # Santa Cruz, California\n",
    "# testzip = 94558  # Napa, California\n",
    "## In the case of Napa, this search yielded three results, three \n",
    "## different fips codes (stcountyfp), and three different counties\n",
    "testzip = 94115  # San Francisco, California\n",
    "\n",
    "fips_df[fips_df.zip == testzip]"
   ]
  },
  {
   "cell_type": "markdown",
   "metadata": {},
   "source": [
    "As noted in the above cell, there are some zip codes that will yield multiple fips codes and multiple counties. In those cases, our searching algorithm can call the first one that it finds, or the lowest index."
   ]
  },
  {
   "cell_type": "markdown",
   "metadata": {},
   "source": [
    "## Now pull in a dataset that contains latitude/longitude data and at least one of the unique fields above"
   ]
  },
  {
   "cell_type": "code",
   "execution_count": 20,
   "metadata": {},
   "outputs": [],
   "source": [
    "path_to_home = '../'\n",
    "path_to_data = path_to_home+'data/BIG-QUERY/'\n",
    "filename = path_to_data+'Covid_and_Pop_by_County.csv'"
   ]
  },
  {
   "cell_type": "code",
   "execution_count": 22,
   "metadata": {},
   "outputs": [
    {
     "data": {
      "text/html": [
       "<div>\n",
       "<style scoped>\n",
       "    .dataframe tbody tr th:only-of-type {\n",
       "        vertical-align: middle;\n",
       "    }\n",
       "\n",
       "    .dataframe tbody tr th {\n",
       "        vertical-align: top;\n",
       "    }\n",
       "\n",
       "    .dataframe thead th {\n",
       "        text-align: right;\n",
       "    }\n",
       "</style>\n",
       "<table border=\"1\" class=\"dataframe\">\n",
       "  <thead>\n",
       "    <tr style=\"text-align: right;\">\n",
       "      <th></th>\n",
       "      <th>Unnamed: 0</th>\n",
       "      <th>population</th>\n",
       "      <th>county_name</th>\n",
       "      <th>state_name</th>\n",
       "      <th>cumulative_confirmed</th>\n",
       "      <th>cumulative_deceased</th>\n",
       "      <th>latitude</th>\n",
       "      <th>longitude</th>\n",
       "    </tr>\n",
       "  </thead>\n",
       "  <tbody>\n",
       "    <tr>\n",
       "      <th>0</th>\n",
       "      <td>Autauga County, Alabama</td>\n",
       "      <td>55869.0</td>\n",
       "      <td>Autauga County</td>\n",
       "      <td>Alabama</td>\n",
       "      <td>1015.0</td>\n",
       "      <td>21.0</td>\n",
       "      <td>32.536667</td>\n",
       "      <td>-86.648333</td>\n",
       "    </tr>\n",
       "    <tr>\n",
       "      <th>1</th>\n",
       "      <td>Baldwin County, Alabama</td>\n",
       "      <td>223234.0</td>\n",
       "      <td>Baldwin County</td>\n",
       "      <td>Alabama</td>\n",
       "      <td>3101.0</td>\n",
       "      <td>22.0</td>\n",
       "      <td>30.733056</td>\n",
       "      <td>-87.720278</td>\n",
       "    </tr>\n",
       "    <tr>\n",
       "      <th>2</th>\n",
       "      <td>Barbour County, Alabama</td>\n",
       "      <td>24686.0</td>\n",
       "      <td>Barbour County</td>\n",
       "      <td>Alabama</td>\n",
       "      <td>598.0</td>\n",
       "      <td>5.0</td>\n",
       "      <td>31.865833</td>\n",
       "      <td>-85.396111</td>\n",
       "    </tr>\n",
       "    <tr>\n",
       "      <th>3</th>\n",
       "      <td>Bibb County, Alabama</td>\n",
       "      <td>22394.0</td>\n",
       "      <td>Bibb County</td>\n",
       "      <td>Alabama</td>\n",
       "      <td>363.0</td>\n",
       "      <td>2.0</td>\n",
       "      <td>32.997778</td>\n",
       "      <td>-87.126389</td>\n",
       "    </tr>\n",
       "    <tr>\n",
       "      <th>4</th>\n",
       "      <td>Blount County, Alabama</td>\n",
       "      <td>57826.0</td>\n",
       "      <td>Blount County</td>\n",
       "      <td>Alabama</td>\n",
       "      <td>767.0</td>\n",
       "      <td>3.0</td>\n",
       "      <td>33.966667</td>\n",
       "      <td>-86.583333</td>\n",
       "    </tr>\n",
       "  </tbody>\n",
       "</table>\n",
       "</div>"
      ],
      "text/plain": [
       "                Unnamed: 0  population     county_name state_name  \\\n",
       "0  Autauga County, Alabama     55869.0  Autauga County    Alabama   \n",
       "1  Baldwin County, Alabama    223234.0  Baldwin County    Alabama   \n",
       "2  Barbour County, Alabama     24686.0  Barbour County    Alabama   \n",
       "3     Bibb County, Alabama     22394.0     Bibb County    Alabama   \n",
       "4   Blount County, Alabama     57826.0   Blount County    Alabama   \n",
       "\n",
       "   cumulative_confirmed  cumulative_deceased   latitude  longitude  \n",
       "0                1015.0                 21.0  32.536667 -86.648333  \n",
       "1                3101.0                 22.0  30.733056 -87.720278  \n",
       "2                 598.0                  5.0  31.865833 -85.396111  \n",
       "3                 363.0                  2.0  32.997778 -87.126389  \n",
       "4                 767.0                  3.0  33.966667 -86.583333  "
      ]
     },
     "execution_count": 22,
     "metadata": {},
     "output_type": "execute_result"
    }
   ],
   "source": [
    "lats_df = pd.read_csv(filename)\n",
    "lats_df.head()"
   ]
  },
  {
   "cell_type": "markdown",
   "metadata": {},
   "source": [
    "For this dataset we only need location data, so drop the other columns"
   ]
  },
  {
   "cell_type": "code",
   "execution_count": 34,
   "metadata": {},
   "outputs": [],
   "source": [
    "lats_df.drop(columns=(['Unnamed: 0', 'cumulative_confirmed', 'cumulative_deceased']), inplace=True)"
   ]
  },
  {
   "cell_type": "code",
   "execution_count": 35,
   "metadata": {},
   "outputs": [
    {
     "name": "stdout",
     "output_type": "stream",
     "text": [
      "<class 'pandas.core.frame.DataFrame'>\n",
      "RangeIndex: 3020 entries, 0 to 3019\n",
      "Data columns (total 6 columns):\n",
      " #   Column       Non-Null Count  Dtype  \n",
      "---  ------       --------------  -----  \n",
      " 0   population   3020 non-null   float64\n",
      " 1   county_name  3020 non-null   object \n",
      " 2   state_name   3020 non-null   object \n",
      " 3   latitude     3020 non-null   float64\n",
      " 4   longitude    3020 non-null   float64\n",
      " 5   state        3020 non-null   object \n",
      "dtypes: float64(3), object(3)\n",
      "memory usage: 141.7+ KB\n"
     ]
    }
   ],
   "source": [
    "lats_df.info()"
   ]
  },
  {
   "cell_type": "code",
   "execution_count": 23,
   "metadata": {},
   "outputs": [
    {
     "data": {
      "text/plain": [
       "Texas                   250\n",
       "Georgia                 159\n",
       "Kentucky                120\n",
       "Missouri                109\n",
       "Kansas                  103\n",
       "Illinois                101\n",
       "North Carolina          100\n",
       "Iowa                     99\n",
       "Tennessee                95\n",
       "Virginia                 95\n",
       "Indiana                  91\n",
       "Ohio                     88\n",
       "Minnesota                86\n",
       "Nebraska                 84\n",
       "Mississippi              82\n",
       "Michigan                 81\n",
       "Oklahoma                 77\n",
       "Arkansas                 74\n",
       "Wisconsin                71\n",
       "Pennsylvania             67\n",
       "Alabama                  66\n",
       "Florida                  65\n",
       "South Dakota             65\n",
       "Colorado                 63\n",
       "New York                 61\n",
       "California               58\n",
       "Louisiana                55\n",
       "West Virginia            55\n",
       "North Dakota             53\n",
       "Montana                  51\n",
       "South Carolina           46\n",
       "Idaho                    42\n",
       "Washington               39\n",
       "Oregon                   35\n",
       "New Mexico               32\n",
       "Utah                     28\n",
       "Wyoming                  23\n",
       "Maryland                 22\n",
       "New Jersey               21\n",
       "Nevada                   16\n",
       "Maine                    16\n",
       "Arizona                  15\n",
       "Massachusetts            14\n",
       "Vermont                  14\n",
       "New Hampshire            10\n",
       "Connecticut               8\n",
       "Rhode Island              5\n",
       "Hawaii                    4\n",
       "Delaware                  3\n",
       "Alaska                    2\n",
       "District of Columbia      1\n",
       "Name: state_name, dtype: int64"
      ]
     },
     "execution_count": 23,
     "metadata": {},
     "output_type": "execute_result"
    }
   ],
   "source": [
    "lats_df.state_name.value_counts()"
   ]
  },
  {
   "cell_type": "markdown",
   "metadata": {},
   "source": [
    "## Hardcode a dictionary with the states names and their abbreviateions to map on to the dataframe"
   ]
  },
  {
   "cell_type": "code",
   "execution_count": 27,
   "metadata": {},
   "outputs": [],
   "source": [
    "state_abbr = {\n",
    "    'Texas': 'TX',\n",
    "    'Georgia': 'GA',\n",
    "    'Kentucky': 'KY',\n",
    "    'Missouri': 'MO',\n",
    "    'Kansas': 'KS',\n",
    "    'Illinois': 'IL',\n",
    "    'North Carolina': 'NC',\n",
    "    'Iowa': 'IA',\n",
    "    'Tennessee': 'TN',\n",
    "    'Virginia': 'VA',\n",
    "    'Indiana': 'IN',\n",
    "    'Ohio': 'OH',\n",
    "    'Minnesota': 'MN',\n",
    "    'Nebraska': 'NE',\n",
    "    'Mississippi': 'MS',\n",
    "    'Michigan': 'MI',\n",
    "    'Oklahoma': 'OK',\n",
    "    'Arkansas': 'AR',\n",
    "    'Wisconsin': 'WI',\n",
    "    'Pennsylvania': 'PA',\n",
    "    'Alabama': 'AL',\n",
    "    'Florida': 'FL',\n",
    "    'South Dakota': 'SD',\n",
    "    'Colorado': 'CO',\n",
    "    'New York': 'NY',\n",
    "    'California': 'CA',\n",
    "    'Louisiana': 'LA',\n",
    "    'West Virginia': 'WV',\n",
    "    'North Dakota': 'ND',\n",
    "    'Montana': 'MT',\n",
    "    'South Carolina': 'SC',\n",
    "    'Idaho': 'ID',\n",
    "    'Washington': 'WA',\n",
    "    'Oregon': 'OR',\n",
    "    'New Mexico': 'NM',\n",
    "    'Utah': 'UT',\n",
    "    'Wyoming': 'WY',\n",
    "    'Maryland': 'MD',\n",
    "    'New Jersey': 'NJ',\n",
    "    'Nevada': 'NV',\n",
    "    'Maine': 'ME',\n",
    "    'Arizona': 'AZ',\n",
    "    'Massachusetts': 'MA',\n",
    "    'Vermont': 'VT',\n",
    "    'New Hampshire':'NH',\n",
    "    'Connecticut':'CT',\n",
    "    'Rhode Island':'RI',\n",
    "    'Hawaii':'HI',\n",
    "    'Delaware': 'DE',\n",
    "    'Alaska': 'AK',\n",
    "    'District of Columbia': 'DC'\n",
    "}"
   ]
  },
  {
   "cell_type": "code",
   "execution_count": 28,
   "metadata": {},
   "outputs": [],
   "source": [
    "lats_df['state'] = lats_df['state_name'].map(state_abbr)"
   ]
  },
  {
   "cell_type": "code",
   "execution_count": 29,
   "metadata": {},
   "outputs": [
    {
     "data": {
      "text/plain": [
       "0       AL\n",
       "1       AL\n",
       "2       AL\n",
       "3       AL\n",
       "4       AL\n",
       "        ..\n",
       "3015    WY\n",
       "3016    WY\n",
       "3017    WY\n",
       "3018    WY\n",
       "3019    WY\n",
       "Name: state, Length: 3020, dtype: object"
      ]
     },
     "execution_count": 29,
     "metadata": {},
     "output_type": "execute_result"
    }
   ],
   "source": [
    "lats_df['state']"
   ]
  },
  {
   "cell_type": "markdown",
   "metadata": {},
   "source": [
    "## Merge the two dataframes so we have latitude and logitude data in the fips_df "
   ]
  },
  {
   "cell_type": "code",
   "execution_count": 56,
   "metadata": {},
   "outputs": [],
   "source": [
    "#df1.merge(df2, left_on='lkey', right_on='rkey') --from the pandas documentation\n",
    "fips_df = fips_df.merge(lats_df, left_on=['state', 'county_name'], right_on=['state', 'county_name'])"
   ]
  },
  {
   "cell_type": "code",
   "execution_count": 57,
   "metadata": {},
   "outputs": [
    {
     "data": {
      "text/html": [
       "<div>\n",
       "<style scoped>\n",
       "    .dataframe tbody tr th:only-of-type {\n",
       "        vertical-align: middle;\n",
       "    }\n",
       "\n",
       "    .dataframe tbody tr th {\n",
       "        vertical-align: top;\n",
       "    }\n",
       "\n",
       "    .dataframe thead th {\n",
       "        text-align: right;\n",
       "    }\n",
       "</style>\n",
       "<table border=\"1\" class=\"dataframe\">\n",
       "  <thead>\n",
       "    <tr style=\"text-align: right;\">\n",
       "      <th></th>\n",
       "      <th>zip</th>\n",
       "      <th>fips</th>\n",
       "      <th>city</th>\n",
       "      <th>state</th>\n",
       "      <th>county_name</th>\n",
       "      <th>classfp</th>\n",
       "      <th>population</th>\n",
       "      <th>state_name</th>\n",
       "      <th>latitude</th>\n",
       "      <th>longitude</th>\n",
       "    </tr>\n",
       "  </thead>\n",
       "  <tbody>\n",
       "    <tr>\n",
       "      <th>0</th>\n",
       "      <td>36091</td>\n",
       "      <td>1001</td>\n",
       "      <td>Verbena</td>\n",
       "      <td>AL</td>\n",
       "      <td>Autauga County</td>\n",
       "      <td>H1</td>\n",
       "      <td>55869.0</td>\n",
       "      <td>Alabama</td>\n",
       "      <td>32.536667</td>\n",
       "      <td>-86.648333</td>\n",
       "    </tr>\n",
       "    <tr>\n",
       "      <th>1</th>\n",
       "      <td>36758</td>\n",
       "      <td>1001</td>\n",
       "      <td>Plantersville</td>\n",
       "      <td>AL</td>\n",
       "      <td>Autauga County</td>\n",
       "      <td>H1</td>\n",
       "      <td>55869.0</td>\n",
       "      <td>Alabama</td>\n",
       "      <td>32.536667</td>\n",
       "      <td>-86.648333</td>\n",
       "    </tr>\n",
       "    <tr>\n",
       "      <th>2</th>\n",
       "      <td>36006</td>\n",
       "      <td>1001</td>\n",
       "      <td>Billingsley</td>\n",
       "      <td>AL</td>\n",
       "      <td>Autauga County</td>\n",
       "      <td>H1</td>\n",
       "      <td>55869.0</td>\n",
       "      <td>Alabama</td>\n",
       "      <td>32.536667</td>\n",
       "      <td>-86.648333</td>\n",
       "    </tr>\n",
       "    <tr>\n",
       "      <th>3</th>\n",
       "      <td>36067</td>\n",
       "      <td>1001</td>\n",
       "      <td>Prattville</td>\n",
       "      <td>AL</td>\n",
       "      <td>Autauga County</td>\n",
       "      <td>H1</td>\n",
       "      <td>55869.0</td>\n",
       "      <td>Alabama</td>\n",
       "      <td>32.536667</td>\n",
       "      <td>-86.648333</td>\n",
       "    </tr>\n",
       "    <tr>\n",
       "      <th>4</th>\n",
       "      <td>36701</td>\n",
       "      <td>1001</td>\n",
       "      <td>Selma</td>\n",
       "      <td>AL</td>\n",
       "      <td>Autauga County</td>\n",
       "      <td>H1</td>\n",
       "      <td>55869.0</td>\n",
       "      <td>Alabama</td>\n",
       "      <td>32.536667</td>\n",
       "      <td>-86.648333</td>\n",
       "    </tr>\n",
       "  </tbody>\n",
       "</table>\n",
       "</div>"
      ],
      "text/plain": [
       "     zip  fips           city state     county_name classfp  population  \\\n",
       "0  36091  1001        Verbena    AL  Autauga County      H1     55869.0   \n",
       "1  36758  1001  Plantersville    AL  Autauga County      H1     55869.0   \n",
       "2  36006  1001    Billingsley    AL  Autauga County      H1     55869.0   \n",
       "3  36067  1001     Prattville    AL  Autauga County      H1     55869.0   \n",
       "4  36701  1001          Selma    AL  Autauga County      H1     55869.0   \n",
       "\n",
       "  state_name   latitude  longitude  \n",
       "0    Alabama  32.536667 -86.648333  \n",
       "1    Alabama  32.536667 -86.648333  \n",
       "2    Alabama  32.536667 -86.648333  \n",
       "3    Alabama  32.536667 -86.648333  \n",
       "4    Alabama  32.536667 -86.648333  "
      ]
     },
     "execution_count": 57,
     "metadata": {},
     "output_type": "execute_result"
    }
   ],
   "source": [
    "fips_df.head()"
   ]
  },
  {
   "cell_type": "code",
   "execution_count": 58,
   "metadata": {},
   "outputs": [],
   "source": [
    "fips_df.drop(columns=['classfp', 'population'], inplace=True)"
   ]
  },
  {
   "cell_type": "code",
   "execution_count": 59,
   "metadata": {},
   "outputs": [],
   "source": [
    "fips_df.to_csv(path_to_home+'data/BIG-QUERY/fips_lats_cities.csv', index=False)"
   ]
  },
  {
   "cell_type": "code",
   "execution_count": null,
   "metadata": {},
   "outputs": [],
   "source": []
  }
 ],
 "metadata": {
  "kernelspec": {
   "display_name": "Python 3",
   "language": "python",
   "name": "python3"
  },
  "language_info": {
   "codemirror_mode": {
    "name": "ipython",
    "version": 3
   },
   "file_extension": ".py",
   "mimetype": "text/x-python",
   "name": "python",
   "nbconvert_exporter": "python",
   "pygments_lexer": "ipython3",
   "version": "3.7.6"
  }
 },
 "nbformat": 4,
 "nbformat_minor": 4
}
