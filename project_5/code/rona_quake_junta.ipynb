{
 "cells": [
  {
   "cell_type": "markdown",
   "metadata": {},
   "source": [
    "# Join the Corona Table and the Earthquake Table"
   ]
  },
  {
   "cell_type": "code",
   "execution_count": 1,
   "metadata": {},
   "outputs": [],
   "source": [
    "import pandas as pd\n",
    "import numpy as np\n",
    "import matplotlib.pyplot as plt"
   ]
  },
  {
   "cell_type": "code",
   "execution_count": 2,
   "metadata": {},
   "outputs": [],
   "source": [
    "path_to_home = '../'\n",
    "datapath= path_to_home + 'data/'\n",
    "corona = datapath + 'BIG-QUERY/covid-resulting-dataframe.csv'\n",
    "usgs = datapath + 'USGS/earthquake_clean.csv'\n",
    "\n",
    "rona = pd.read_csv(corona)\n",
    "quake = pd.read_csv(usgs)"
   ]
  },
  {
   "cell_type": "code",
   "execution_count": 3,
   "metadata": {},
   "outputs": [
    {
     "data": {
      "text/plain": [
       "(6034, 10)"
      ]
     },
     "execution_count": 3,
     "metadata": {},
     "output_type": "execute_result"
    }
   ],
   "source": [
    "rona.shape"
   ]
  },
  {
   "cell_type": "code",
   "execution_count": 4,
   "metadata": {},
   "outputs": [
    {
     "data": {
      "text/plain": [
       "(16779, 34)"
      ]
     },
     "execution_count": 4,
     "metadata": {},
     "output_type": "execute_result"
    }
   ],
   "source": [
    "quake.shape"
   ]
  },
  {
   "cell_type": "code",
   "execution_count": 5,
   "metadata": {},
   "outputs": [
    {
     "data": {
      "text/plain": [
       "Index(['county_state', 'population', 'positive_tests', 'deaths', 'latitude',\n",
       "       'longitude', 'deaths_per_100K', 'death_risk_index', 'cluster',\n",
       "       'hotspot'],\n",
       "      dtype='object')"
      ]
     },
     "execution_count": 5,
     "metadata": {},
     "output_type": "execute_result"
    }
   ],
   "source": [
    "rona.columns"
   ]
  },
  {
   "cell_type": "code",
   "execution_count": 6,
   "metadata": {},
   "outputs": [
    {
     "data": {
      "text/plain": [
       "[<matplotlib.lines.Line2D at 0x250124b8348>]"
      ]
     },
     "execution_count": 6,
     "metadata": {},
     "output_type": "execute_result"
    },
    {
     "data": {
      "image/png": "[encoded data removed]",
      "text/plain": [
       "<Figure size 432x288 with 1 Axes>"
      ]
     },
     "metadata": {
      "needs_background": "light"
     },
     "output_type": "display_data"
    }
   ],
   "source": [
    "plt.plot(rona.death_risk_index)"
   ]
  },
  {
   "cell_type": "code",
   "execution_count": 7,
   "metadata": {},
   "outputs": [],
   "source": [
    "rona.rename(columns=({'cluster': 'geo_region_cluster', 'hotspot': 'covid-hotspot'}), inplace=True)"
   ]
  },
  {
   "cell_type": "code",
   "execution_count": 8,
   "metadata": {},
   "outputs": [
    {
     "data": {
      "text/plain": [
       "Index(['type', 'id', 'mag', 'place', 'time', 'updated', 'tz', 'url', 'detail',\n",
       "       'felt', 'cdi', 'mmi', 'alert', 'status', 'tsunami', 'sig', 'net',\n",
       "       'code', 'ids', 'sources', 'types', 'nst', 'dmin', 'rms', 'gap',\n",
       "       'magType', 'earthquake', 'title', 'point', 'long', 'lat', 'depth',\n",
       "       'geometry', 'clusters'],\n",
       "      dtype='object')"
      ]
     },
     "execution_count": 8,
     "metadata": {},
     "output_type": "execute_result"
    }
   ],
   "source": [
    "quake.columns"
   ]
  },
  {
   "cell_type": "code",
   "execution_count": 9,
   "metadata": {},
   "outputs": [],
   "source": [
    "quake.rename(columns=({'long': 'longitude', 'lat': 'latitude'}), inplace=True)"
   ]
  },
  {
   "cell_type": "code",
   "execution_count": 10,
   "metadata": {},
   "outputs": [],
   "source": [
    "junta = pd.concat([rona, quake])"
   ]
  },
  {
   "cell_type": "code",
   "execution_count": 11,
   "metadata": {},
   "outputs": [
    {
     "data": {
      "text/html": [
       "<div>\n",
       "<style scoped>\n",
       "    .dataframe tbody tr th:only-of-type {\n",
       "        vertical-align: middle;\n",
       "    }\n",
       "\n",
       "    .dataframe tbody tr th {\n",
       "        vertical-align: top;\n",
       "    }\n",
       "\n",
       "    .dataframe thead th {\n",
       "        text-align: right;\n",
       "    }\n",
       "</style>\n",
       "<table border=\"1\" class=\"dataframe\">\n",
       "  <thead>\n",
       "    <tr style=\"text-align: right;\">\n",
       "      <th></th>\n",
       "      <th>county_state</th>\n",
       "      <th>population</th>\n",
       "      <th>positive_tests</th>\n",
       "      <th>deaths</th>\n",
       "      <th>latitude</th>\n",
       "      <th>longitude</th>\n",
       "      <th>deaths_per_100K</th>\n",
       "      <th>death_risk_index</th>\n",
       "      <th>geo_region_cluster</th>\n",
       "      <th>covid-hotspot</th>\n",
       "      <th>...</th>\n",
       "      <th>dmin</th>\n",
       "      <th>rms</th>\n",
       "      <th>gap</th>\n",
       "      <th>magType</th>\n",
       "      <th>earthquake</th>\n",
       "      <th>title</th>\n",
       "      <th>point</th>\n",
       "      <th>depth</th>\n",
       "      <th>geometry</th>\n",
       "      <th>clusters</th>\n",
       "    </tr>\n",
       "  </thead>\n",
       "  <tbody>\n",
       "    <tr>\n",
       "      <th>0</th>\n",
       "      <td>Autauga County, Alabama</td>\n",
       "      <td>55869.0</td>\n",
       "      <td>1015.0</td>\n",
       "      <td>21.0</td>\n",
       "      <td>32.536667</td>\n",
       "      <td>-86.648333</td>\n",
       "      <td>37.587929</td>\n",
       "      <td>1412.852399</td>\n",
       "      <td>32.0</td>\n",
       "      <td>1.0</td>\n",
       "      <td>...</td>\n",
       "      <td>NaN</td>\n",
       "      <td>NaN</td>\n",
       "      <td>NaN</td>\n",
       "      <td>NaN</td>\n",
       "      <td>NaN</td>\n",
       "      <td>NaN</td>\n",
       "      <td>NaN</td>\n",
       "      <td>NaN</td>\n",
       "      <td>NaN</td>\n",
       "      <td>NaN</td>\n",
       "    </tr>\n",
       "    <tr>\n",
       "      <th>1</th>\n",
       "      <td>Baldwin County, Alabama</td>\n",
       "      <td>223234.0</td>\n",
       "      <td>3101.0</td>\n",
       "      <td>22.0</td>\n",
       "      <td>30.733056</td>\n",
       "      <td>-87.720278</td>\n",
       "      <td>9.855130</td>\n",
       "      <td>97.123579</td>\n",
       "      <td>32.0</td>\n",
       "      <td>1.0</td>\n",
       "      <td>...</td>\n",
       "      <td>NaN</td>\n",
       "      <td>NaN</td>\n",
       "      <td>NaN</td>\n",
       "      <td>NaN</td>\n",
       "      <td>NaN</td>\n",
       "      <td>NaN</td>\n",
       "      <td>NaN</td>\n",
       "      <td>NaN</td>\n",
       "      <td>NaN</td>\n",
       "      <td>NaN</td>\n",
       "    </tr>\n",
       "    <tr>\n",
       "      <th>2</th>\n",
       "      <td>Barbour County, Alabama</td>\n",
       "      <td>24686.0</td>\n",
       "      <td>598.0</td>\n",
       "      <td>5.0</td>\n",
       "      <td>31.865833</td>\n",
       "      <td>-85.396111</td>\n",
       "      <td>20.254395</td>\n",
       "      <td>410.240525</td>\n",
       "      <td>77.0</td>\n",
       "      <td>1.0</td>\n",
       "      <td>...</td>\n",
       "      <td>NaN</td>\n",
       "      <td>NaN</td>\n",
       "      <td>NaN</td>\n",
       "      <td>NaN</td>\n",
       "      <td>NaN</td>\n",
       "      <td>NaN</td>\n",
       "      <td>NaN</td>\n",
       "      <td>NaN</td>\n",
       "      <td>NaN</td>\n",
       "      <td>NaN</td>\n",
       "    </tr>\n",
       "    <tr>\n",
       "      <th>3</th>\n",
       "      <td>Bibb County, Alabama</td>\n",
       "      <td>22394.0</td>\n",
       "      <td>363.0</td>\n",
       "      <td>2.0</td>\n",
       "      <td>32.997778</td>\n",
       "      <td>-87.126389</td>\n",
       "      <td>8.930964</td>\n",
       "      <td>79.762112</td>\n",
       "      <td>32.0</td>\n",
       "      <td>1.0</td>\n",
       "      <td>...</td>\n",
       "      <td>NaN</td>\n",
       "      <td>NaN</td>\n",
       "      <td>NaN</td>\n",
       "      <td>NaN</td>\n",
       "      <td>NaN</td>\n",
       "      <td>NaN</td>\n",
       "      <td>NaN</td>\n",
       "      <td>NaN</td>\n",
       "      <td>NaN</td>\n",
       "      <td>NaN</td>\n",
       "    </tr>\n",
       "    <tr>\n",
       "      <th>4</th>\n",
       "      <td>Blount County, Alabama</td>\n",
       "      <td>57826.0</td>\n",
       "      <td>767.0</td>\n",
       "      <td>3.0</td>\n",
       "      <td>33.966667</td>\n",
       "      <td>-86.583333</td>\n",
       "      <td>5.187978</td>\n",
       "      <td>26.915113</td>\n",
       "      <td>54.0</td>\n",
       "      <td>3.0</td>\n",
       "      <td>...</td>\n",
       "      <td>NaN</td>\n",
       "      <td>NaN</td>\n",
       "      <td>NaN</td>\n",
       "      <td>NaN</td>\n",
       "      <td>NaN</td>\n",
       "      <td>NaN</td>\n",
       "      <td>NaN</td>\n",
       "      <td>NaN</td>\n",
       "      <td>NaN</td>\n",
       "      <td>NaN</td>\n",
       "    </tr>\n",
       "  </tbody>\n",
       "</table>\n",
       "<p>5 rows × 42 columns</p>\n",
       "</div>"
      ],
      "text/plain": [
       "              county_state  population  positive_tests  deaths   latitude  \\\n",
       "0  Autauga County, Alabama     55869.0          1015.0    21.0  32.536667   \n",
       "1  Baldwin County, Alabama    223234.0          3101.0    22.0  30.733056   \n",
       "2  Barbour County, Alabama     24686.0           598.0     5.0  31.865833   \n",
       "3     Bibb County, Alabama     22394.0           363.0     2.0  32.997778   \n",
       "4   Blount County, Alabama     57826.0           767.0     3.0  33.966667   \n",
       "\n",
       "   longitude  deaths_per_100K  death_risk_index  geo_region_cluster  \\\n",
       "0 -86.648333        37.587929       1412.852399                32.0   \n",
       "1 -87.720278         9.855130         97.123579                32.0   \n",
       "2 -85.396111        20.254395        410.240525                77.0   \n",
       "3 -87.126389         8.930964         79.762112                32.0   \n",
       "4 -86.583333         5.187978         26.915113                54.0   \n",
       "\n",
       "   covid-hotspot  ... dmin rms  gap magType earthquake  title  point depth  \\\n",
       "0            1.0  ...  NaN NaN  NaN     NaN        NaN    NaN    NaN   NaN   \n",
       "1            1.0  ...  NaN NaN  NaN     NaN        NaN    NaN    NaN   NaN   \n",
       "2            1.0  ...  NaN NaN  NaN     NaN        NaN    NaN    NaN   NaN   \n",
       "3            1.0  ...  NaN NaN  NaN     NaN        NaN    NaN    NaN   NaN   \n",
       "4            3.0  ...  NaN NaN  NaN     NaN        NaN    NaN    NaN   NaN   \n",
       "\n",
       "  geometry  clusters  \n",
       "0      NaN       NaN  \n",
       "1      NaN       NaN  \n",
       "2      NaN       NaN  \n",
       "3      NaN       NaN  \n",
       "4      NaN       NaN  \n",
       "\n",
       "[5 rows x 42 columns]"
      ]
     },
     "execution_count": 11,
     "metadata": {},
     "output_type": "execute_result"
    }
   ],
   "source": [
    "junta.head()"
   ]
  },
  {
   "cell_type": "code",
   "execution_count": 12,
   "metadata": {},
   "outputs": [
    {
     "data": {
      "text/plain": [
       "(22813, 42)"
      ]
     },
     "execution_count": 12,
     "metadata": {},
     "output_type": "execute_result"
    }
   ],
   "source": [
    "junta.shape"
   ]
  },
  {
   "cell_type": "code",
   "execution_count": 13,
   "metadata": {},
   "outputs": [
    {
     "data": {
      "text/plain": [
       "county_state           object\n",
       "population            float64\n",
       "positive_tests        float64\n",
       "deaths                float64\n",
       "latitude              float64\n",
       "longitude             float64\n",
       "deaths_per_100K       float64\n",
       "death_risk_index      float64\n",
       "geo_region_cluster    float64\n",
       "covid-hotspot         float64\n",
       "type                   object\n",
       "id                     object\n",
       "mag                   float64\n",
       "place                  object\n",
       "time                   object\n",
       "updated               float64\n",
       "tz                    float64\n",
       "url                    object\n",
       "detail                 object\n",
       "felt                  float64\n",
       "cdi                   float64\n",
       "mmi                   float64\n",
       "alert                  object\n",
       "status                 object\n",
       "tsunami               float64\n",
       "sig                   float64\n",
       "net                    object\n",
       "code                   object\n",
       "ids                    object\n",
       "sources                object\n",
       "types                  object\n",
       "nst                   float64\n",
       "dmin                  float64\n",
       "rms                   float64\n",
       "gap                   float64\n",
       "magType                object\n",
       "earthquake             object\n",
       "title                  object\n",
       "point                  object\n",
       "depth                 float64\n",
       "geometry               object\n",
       "clusters              float64\n",
       "dtype: object"
      ]
     },
     "execution_count": 13,
     "metadata": {},
     "output_type": "execute_result"
    }
   ],
   "source": [
    "junta.dtypes"
   ]
  },
  {
   "cell_type": "code",
   "execution_count": 14,
   "metadata": {},
   "outputs": [
    {
     "data": {
      "text/plain": [
       "county_state          16779\n",
       "population            16779\n",
       "positive_tests        16779\n",
       "deaths                16779\n",
       "latitude                  0\n",
       "longitude                 0\n",
       "deaths_per_100K       16779\n",
       "death_risk_index      16779\n",
       "geo_region_cluster    19799\n",
       "covid-hotspot         19799\n",
       "type                   6034\n",
       "id                     6034\n",
       "mag                    6034\n",
       "place                  6034\n",
       "time                   6034\n",
       "updated                6034\n",
       "tz                    14043\n",
       "url                    6034\n",
       "detail                 6034\n",
       "felt                   6034\n",
       "cdi                    6034\n",
       "mmi                    6034\n",
       "alert                 21868\n",
       "status                 6034\n",
       "tsunami                6034\n",
       "sig                    6034\n",
       "net                    6034\n",
       "code                   6034\n",
       "ids                    6034\n",
       "sources                6034\n",
       "types                  6034\n",
       "nst                    6034\n",
       "dmin                   6034\n",
       "rms                    6034\n",
       "gap                    6034\n",
       "magType                6035\n",
       "earthquake             6034\n",
       "title                  6034\n",
       "point                  6034\n",
       "depth                  6034\n",
       "geometry               6034\n",
       "clusters               6034\n",
       "dtype: int64"
      ]
     },
     "execution_count": 14,
     "metadata": {},
     "output_type": "execute_result"
    }
   ],
   "source": [
    "junta.isna().sum()"
   ]
  },
  {
   "cell_type": "code",
   "execution_count": 15,
   "metadata": {},
   "outputs": [],
   "source": [
    "junta.to_csv(datapath+'PRESENTATION/rona_quakes.csv')"
   ]
  },
  {
   "cell_type": "code",
   "execution_count": null,
   "metadata": {},
   "outputs": [],
   "source": []
  }
 ],
 "metadata": {
  "kernelspec": {
   "display_name": "Python 3",
   "language": "python",
   "name": "python3"
  },
  "language_info": {
   "codemirror_mode": {
    "name": "ipython",
    "version": 3
   },
   "file_extension": ".py",
   "mimetype": "text/x-python",
   "name": "python",
   "nbconvert_exporter": "python",
   "pygments_lexer": "ipython3",
   "version": "3.7.6"
  }
 },
 "nbformat": 4,
 "nbformat_minor": 4
}
