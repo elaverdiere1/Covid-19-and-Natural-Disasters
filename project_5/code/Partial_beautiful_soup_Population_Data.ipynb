{
 "cells": [
  {
   "cell_type": "markdown",
   "metadata": {},
   "source": [
    "# Population Data\n",
    "This notebook pulls data from Wikipedia with the goal of createing a dataframe with population data in each county in the US"
   ]
  },
  {
   "cell_type": "code",
   "execution_count": 2,
   "metadata": {},
   "outputs": [
    {
     "name": "stdout",
     "output_type": "stream",
     "text": [
      "Requirement already satisfied: wikipedia in c:\\users\\hello\\.conda\\envs\\dsi\\lib\\site-packages (1.4.0)\n",
      "Requirement already satisfied: beautifulsoup4 in c:\\users\\hello\\.conda\\envs\\dsi\\lib\\site-packages (from wikipedia) (4.9.1)\n",
      "Requirement already satisfied: requests<3.0.0,>=2.0.0 in c:\\users\\hello\\.conda\\envs\\dsi\\lib\\site-packages (from wikipedia) (2.24.0)\n",
      "Requirement already satisfied: soupsieve>1.2 in c:\\users\\hello\\.conda\\envs\\dsi\\lib\\site-packages (from beautifulsoup4->wikipedia) (2.0.1)\n",
      "Requirement already satisfied: chardet<4,>=3.0.2 in c:\\users\\hello\\.conda\\envs\\dsi\\lib\\site-packages (from requests<3.0.0,>=2.0.0->wikipedia) (3.0.4)\n",
      "Requirement already satisfied: certifi>=2017.4.17 in c:\\users\\hello\\.conda\\envs\\dsi\\lib\\site-packages (from requests<3.0.0,>=2.0.0->wikipedia) (2020.6.20)\n",
      "Requirement already satisfied: idna<3,>=2.5 in c:\\users\\hello\\.conda\\envs\\dsi\\lib\\site-packages (from requests<3.0.0,>=2.0.0->wikipedia) (2.10)\n",
      "Requirement already satisfied: urllib3!=1.25.0,!=1.25.1,<1.26,>=1.21.1 in c:\\users\\hello\\.conda\\envs\\dsi\\lib\\site-packages (from requests<3.0.0,>=2.0.0->wikipedia) (1.25.10)\n"
     ]
    }
   ],
   "source": [
    "#!pip install wikipedia"
   ]
  },
  {
   "cell_type": "code",
   "execution_count": 3,
   "metadata": {},
   "outputs": [
    {
     "ename": "ModuleNotFoundError",
     "evalue": "No module named 'wikipedia'",
     "output_type": "error",
     "traceback": [
      "\u001b[1;31m---------------------------------------------------------------------------\u001b[0m",
      "\u001b[1;31mModuleNotFoundError\u001b[0m                       Traceback (most recent call last)",
      "\u001b[1;32m<ipython-input-3-743b025fe736>\u001b[0m in \u001b[0;36m<module>\u001b[1;34m\u001b[0m\n\u001b[1;32m----> 1\u001b[1;33m \u001b[1;32mimport\u001b[0m \u001b[0mwikipedia\u001b[0m\u001b[1;33m\u001b[0m\u001b[1;33m\u001b[0m\u001b[0m\n\u001b[0m",
      "\u001b[1;31mModuleNotFoundError\u001b[0m: No module named 'wikipedia'"
     ]
    }
   ],
   "source": [
    "#import wikipedia"
   ]
  },
  {
   "cell_type": "markdown",
   "metadata": {},
   "source": [
    "# No path to the wikipedia libary\n",
    "Since my machine seems to be having issues with its path, I'll pull this data using beautiful soup and stick to what is working as a time saver.\n",
    "\n",
    "Import requests to access the web and BeautifulSoup to parse it\n"
   ]
  },
  {
   "cell_type": "code",
   "execution_count": 80,
   "metadata": {},
   "outputs": [],
   "source": [
    "import requests\n",
    "from bs4 import BeautifulSoup\n",
    "import pandas as pd\n",
    "import numpy as np"
   ]
  },
  {
   "cell_type": "markdown",
   "metadata": {},
   "source": [
    "Create a variable that leads to the main wiki page that we want to scrape. In this case, we want population data for every county in the United States. We also want FIPS data if we can find it."
   ]
  },
  {
   "cell_type": "code",
   "execution_count": 5,
   "metadata": {},
   "outputs": [
    {
     "data": {
      "text/plain": [
       "200"
      ]
     },
     "execution_count": 5,
     "metadata": {},
     "output_type": "execute_result"
    }
   ],
   "source": [
    "url = 'https://en.wikipedia.org/wiki/County_statistics_of_the_United_States'\n",
    "res = requests.get(url)\n",
    "res.status_code"
   ]
  },
  {
   "cell_type": "code",
   "execution_count": null,
   "metadata": {},
   "outputs": [],
   "source": [
    "big_soup_bowl = BeautifulSoup(res.content, 'lxml')     # create a BS object for the main page using 'lxml'"
   ]
  },
  {
   "cell_type": "markdown",
   "metadata": {},
   "source": [
    "Use \"find_all\" to access the table on this page that holds the data that we want, here the states"
   ]
  },
  {
   "cell_type": "code",
   "execution_count": 100,
   "metadata": {},
   "outputs": [
    {
     "data": {
      "text/plain": [
       "['', '254', ' Texas', 'The most counties of any U.S. state', '']"
      ]
     },
     "execution_count": 100,
     "metadata": {},
     "output_type": "execute_result"
    }
   ],
   "source": [
    "table = big_soup_bowl.find_all(\"tr\")\n",
    "table[1].text.split(\"\\n\")"
   ]
  },
  {
   "cell_type": "code",
   "execution_count": 72,
   "metadata": {},
   "outputs": [
    {
     "data": {
      "text/plain": [
       "[<a href=\"/wiki/Texas\" title=\"Texas\"><img alt=\"Texas\" class=\"thumbborder\" data-file-height=\"720\" data-file-width=\"1080\" decoding=\"async\" height=\"15\" src=\"//upload.wikimedia.org/wikipedia/commons/thumb/f/f7/Flag_of_Texas.svg/23px-Flag_of_Texas.svg.png\" srcset=\"//upload.wikimedia.org/wikipedia/commons/thumb/f/f7/Flag_of_Texas.svg/35px-Flag_of_Texas.svg.png 1.5x, //upload.wikimedia.org/wikipedia/commons/thumb/f/f7/Flag_of_Texas.svg/45px-Flag_of_Texas.svg.png 2x\" width=\"23\"/></a>,\n",
       " <a href=\"/wiki/List_of_counties_in_Texas\" title=\"List of counties in Texas\">Texas</a>]"
      ]
     },
     "execution_count": 72,
     "metadata": {},
     "output_type": "execute_result"
    }
   ],
   "source": [
    "table[1].find_all(\"a\", href=True)"
   ]
  },
  {
   "cell_type": "code",
   "execution_count": 101,
   "metadata": {},
   "outputs": [
    {
     "data": {
      "text/plain": [
       "'254'"
      ]
     },
     "execution_count": 101,
     "metadata": {},
     "output_type": "execute_result"
    }
   ],
   "source": [
    "table[1].text.split(\"\\n\")[1]"
   ]
  },
  {
   "cell_type": "code",
   "execution_count": 103,
   "metadata": {},
   "outputs": [
    {
     "data": {
      "text/plain": [
       "'Texas'"
      ]
     },
     "execution_count": 103,
     "metadata": {},
     "output_type": "execute_result"
    }
   ],
   "source": [
    "table[1].text.split(\"\\n\")[2].strip()"
   ]
  },
  {
   "cell_type": "code",
   "execution_count": 104,
   "metadata": {},
   "outputs": [
    {
     "data": {
      "text/plain": [
       "'https://en.wikipedia.org/wiki/List_of_counties_in_Texas'"
      ]
     },
     "execution_count": 104,
     "metadata": {},
     "output_type": "execute_result"
    }
   ],
   "source": [
    "'https://en.wikipedia.org/wiki/List_of_counties_in_' + table[1].text.split(\"\\n\")[2].strip()"
   ]
  },
  {
   "cell_type": "markdown",
   "metadata": {},
   "source": [
    "I want to create a dictionary where the key is the state or territory name and the value is a link to the wiki page that holds the populations for the counties and any other data that might be relevant.  BeautifulSoup can do that."
   ]
  },
  {
   "cell_type": "code",
   "execution_count": 176,
   "metadata": {},
   "outputs": [
    {
     "data": {
      "text/plain": [
       "{'state_name': ['Texas',\n",
       "  'Georgia',\n",
       "  'Virginia',\n",
       "  'Kentucky',\n",
       "  'Missouri',\n",
       "  'Kansas',\n",
       "  'Illinois',\n",
       "  'North Carolina',\n",
       "  'Iowa',\n",
       "  'Tennessee',\n",
       "  'Nebraska',\n",
       "  'Indiana',\n",
       "  'Ohio',\n",
       "  'Minnesota',\n",
       "  'Michigan',\n",
       "  'Mississippi',\n",
       "  'Puerto Rico',\n",
       "  'Oklahoma',\n",
       "  'Arkansas',\n",
       "  'Wisconsin',\n",
       "  'Alabama',\n",
       "  'Florida',\n",
       "  'Pennsylvania',\n",
       "  'South Dakota',\n",
       "  'Colorado',\n",
       "  'Louisiana',\n",
       "  'New York',\n",
       "  'California',\n",
       "  'Montana',\n",
       "  'West Virginia',\n",
       "  'North Dakota',\n",
       "  'South Carolina',\n",
       "  'Idaho',\n",
       "  'Washington',\n",
       "  'Oregon',\n",
       "  'New Mexico',\n",
       "  'Alaska',\n",
       "  'Utah',\n",
       "  'Maryland',\n",
       "  'Wyoming',\n",
       "  'New Jersey',\n",
       "  'Nevada',\n",
       "  'Maine',\n",
       "  'Arizona',\n",
       "  'Massachusetts',\n",
       "  'Vermont',\n",
       "  'New Hampshire',\n",
       "  'U.S. Minor Outlying Islands',\n",
       "  'Connecticut',\n",
       "  'American Samoa',\n",
       "  'Hawaii',\n",
       "  'Rhode Island',\n",
       "  'Northern Mariana Islands',\n",
       "  'Delaware',\n",
       "  'Virgin Islands (U.S.)',\n",
       "  'District of Columbia',\n",
       "  'Guam'],\n",
       " 'num_counties': [254,\n",
       "  159,\n",
       "  133,\n",
       "  120,\n",
       "  115,\n",
       "  105,\n",
       "  102,\n",
       "  100,\n",
       "  99,\n",
       "  95,\n",
       "  93,\n",
       "  92,\n",
       "  88,\n",
       "  87,\n",
       "  83,\n",
       "  82,\n",
       "  78,\n",
       "  77,\n",
       "  75,\n",
       "  72,\n",
       "  67,\n",
       "  67,\n",
       "  67,\n",
       "  66,\n",
       "  64,\n",
       "  64,\n",
       "  62,\n",
       "  58,\n",
       "  56,\n",
       "  55,\n",
       "  53,\n",
       "  46,\n",
       "  44,\n",
       "  39,\n",
       "  36,\n",
       "  33,\n",
       "  29,\n",
       "  29,\n",
       "  24,\n",
       "  23,\n",
       "  21,\n",
       "  17,\n",
       "  16,\n",
       "  15,\n",
       "  14,\n",
       "  14,\n",
       "  10,\n",
       "  9,\n",
       "  8,\n",
       "  5,\n",
       "  5,\n",
       "  5,\n",
       "  4,\n",
       "  3,\n",
       "  3,\n",
       "  1,\n",
       "  1],\n",
       " 'link': ['https://en.wikipedia.org/wiki/List_of_counties_in_Texas',\n",
       "  'https://en.wikipedia.org/wiki/List_of_counties_in_Georgia',\n",
       "  'https://en.wikipedia.org/wiki/List_of_counties_in_Virginia',\n",
       "  'https://en.wikipedia.org/wiki/List_of_counties_in_Kentucky',\n",
       "  'https://en.wikipedia.org/wiki/List_of_counties_in_Missouri',\n",
       "  'https://en.wikipedia.org/wiki/List_of_counties_in_Kansas',\n",
       "  'https://en.wikipedia.org/wiki/List_of_counties_in_Illinois',\n",
       "  'https://en.wikipedia.org/wiki/List_of_counties_in_North Carolina',\n",
       "  'https://en.wikipedia.org/wiki/List_of_counties_in_Iowa',\n",
       "  'https://en.wikipedia.org/wiki/List_of_counties_in_Tennessee',\n",
       "  'https://en.wikipedia.org/wiki/List_of_counties_in_Nebraska',\n",
       "  'https://en.wikipedia.org/wiki/List_of_counties_in_Indiana',\n",
       "  'https://en.wikipedia.org/wiki/List_of_counties_in_Ohio',\n",
       "  'https://en.wikipedia.org/wiki/List_of_counties_in_Minnesota',\n",
       "  'https://en.wikipedia.org/wiki/List_of_counties_in_Michigan',\n",
       "  'https://en.wikipedia.org/wiki/List_of_counties_in_Mississippi',\n",
       "  'https://en.wikipedia.org/wiki/List_of_counties_in_Puerto Rico',\n",
       "  'https://en.wikipedia.org/wiki/List_of_counties_in_Oklahoma',\n",
       "  'https://en.wikipedia.org/wiki/List_of_counties_in_Arkansas',\n",
       "  'https://en.wikipedia.org/wiki/List_of_counties_in_Wisconsin',\n",
       "  'https://en.wikipedia.org/wiki/List_of_counties_in_Alabama',\n",
       "  'https://en.wikipedia.org/wiki/List_of_counties_in_Florida',\n",
       "  'https://en.wikipedia.org/wiki/List_of_counties_in_Pennsylvania',\n",
       "  'https://en.wikipedia.org/wiki/List_of_counties_in_South Dakota',\n",
       "  'https://en.wikipedia.org/wiki/List_of_counties_in_Colorado',\n",
       "  'https://en.wikipedia.org/wiki/List_of_counties_in_Louisiana',\n",
       "  'https://en.wikipedia.org/wiki/List_of_counties_in_New York',\n",
       "  'https://en.wikipedia.org/wiki/List_of_counties_in_California',\n",
       "  'https://en.wikipedia.org/wiki/List_of_counties_in_Montana',\n",
       "  'https://en.wikipedia.org/wiki/List_of_counties_in_West Virginia',\n",
       "  'https://en.wikipedia.org/wiki/List_of_counties_in_North Dakota',\n",
       "  'https://en.wikipedia.org/wiki/List_of_counties_in_South Carolina',\n",
       "  'https://en.wikipedia.org/wiki/List_of_counties_in_Idaho',\n",
       "  'https://en.wikipedia.org/wiki/List_of_counties_in_Washington',\n",
       "  'https://en.wikipedia.org/wiki/List_of_counties_in_Oregon',\n",
       "  'https://en.wikipedia.org/wiki/List_of_counties_in_New Mexico',\n",
       "  'https://en.wikipedia.org/wiki/List_of_counties_in_Alaska',\n",
       "  'https://en.wikipedia.org/wiki/List_of_counties_in_Utah',\n",
       "  'https://en.wikipedia.org/wiki/List_of_counties_in_Maryland',\n",
       "  'https://en.wikipedia.org/wiki/List_of_counties_in_Wyoming',\n",
       "  'https://en.wikipedia.org/wiki/List_of_counties_in_New Jersey',\n",
       "  'https://en.wikipedia.org/wiki/List_of_counties_in_Nevada',\n",
       "  'https://en.wikipedia.org/wiki/List_of_counties_in_Maine',\n",
       "  'https://en.wikipedia.org/wiki/List_of_counties_in_Arizona',\n",
       "  'https://en.wikipedia.org/wiki/List_of_counties_in_Massachusetts',\n",
       "  'https://en.wikipedia.org/wiki/List_of_counties_in_Vermont',\n",
       "  'https://en.wikipedia.org/wiki/List_of_counties_in_New Hampshire',\n",
       "  'https://en.wikipedia.org/wiki/List_of_counties_in_U.S. Minor Outlying Islands',\n",
       "  'https://en.wikipedia.org/wiki/List_of_counties_in_Connecticut',\n",
       "  'https://en.wikipedia.org/wiki/List_of_counties_in_American Samoa',\n",
       "  'https://en.wikipedia.org/wiki/List_of_counties_in_Hawaii',\n",
       "  'https://en.wikipedia.org/wiki/List_of_counties_in_Rhode Island',\n",
       "  'https://en.wikipedia.org/wiki/List_of_counties_in_Northern Mariana Islands',\n",
       "  'https://en.wikipedia.org/wiki/List_of_counties_in_Delaware',\n",
       "  'https://en.wikipedia.org/wiki/List_of_counties_in_Virgin Islands (U.S.)',\n",
       "  'https://en.wikipedia.org/wiki/List_of_counties_in_District of Columbia',\n",
       "  'https://en.wikipedia.org/wiki/List_of_counties_in_Guam']}"
      ]
     },
     "execution_count": 176,
     "metadata": {},
     "output_type": "execute_result"
    }
   ],
   "source": [
    "states = {}\n",
    "\n",
    "name = []\n",
    "num_county = []\n",
    "link = []\n",
    "flag = False\n",
    "\n",
    "for i in range(1, 60):\n",
    "    if not flag:\n",
    "        num_county.append(int(table[i].text.split(\"\\n\")[1]))\n",
    "        name.append(str(table[i].text.split(\"\\n\")[2].strip()))\n",
    "        link.append(str('https://en.wikipedia.org/wiki/List_of_counties_in_' + table[i].text.split(\"\\n\")[2].strip()))\n",
    "        if str(table[i].text.split(\"\\n\")[2].strip()) == 'Guam':\n",
    "            flag=True            \n",
    "        \n",
    "states['state_name'] = name\n",
    "states['num_counties'] = num_county\n",
    "states['link'] = link\n",
    "states"
   ]
  },
  {
   "cell_type": "code",
   "execution_count": 177,
   "metadata": {},
   "outputs": [
    {
     "data": {
      "text/html": [
       "<div>\n",
       "<style scoped>\n",
       "    .dataframe tbody tr th:only-of-type {\n",
       "        vertical-align: middle;\n",
       "    }\n",
       "\n",
       "    .dataframe tbody tr th {\n",
       "        vertical-align: top;\n",
       "    }\n",
       "\n",
       "    .dataframe thead th {\n",
       "        text-align: right;\n",
       "    }\n",
       "</style>\n",
       "<table border=\"1\" class=\"dataframe\">\n",
       "  <thead>\n",
       "    <tr style=\"text-align: right;\">\n",
       "      <th></th>\n",
       "      <th>state_name</th>\n",
       "      <th>num_counties</th>\n",
       "      <th>link</th>\n",
       "    </tr>\n",
       "  </thead>\n",
       "  <tbody>\n",
       "    <tr>\n",
       "      <th>0</th>\n",
       "      <td>Texas</td>\n",
       "      <td>254</td>\n",
       "      <td>https://en.wikipedia.org/wiki/List_of_counties...</td>\n",
       "    </tr>\n",
       "    <tr>\n",
       "      <th>1</th>\n",
       "      <td>Georgia</td>\n",
       "      <td>159</td>\n",
       "      <td>https://en.wikipedia.org/wiki/List_of_counties...</td>\n",
       "    </tr>\n",
       "    <tr>\n",
       "      <th>2</th>\n",
       "      <td>Virginia</td>\n",
       "      <td>133</td>\n",
       "      <td>https://en.wikipedia.org/wiki/List_of_counties...</td>\n",
       "    </tr>\n",
       "    <tr>\n",
       "      <th>3</th>\n",
       "      <td>Kentucky</td>\n",
       "      <td>120</td>\n",
       "      <td>https://en.wikipedia.org/wiki/List_of_counties...</td>\n",
       "    </tr>\n",
       "    <tr>\n",
       "      <th>4</th>\n",
       "      <td>Missouri</td>\n",
       "      <td>115</td>\n",
       "      <td>https://en.wikipedia.org/wiki/List_of_counties...</td>\n",
       "    </tr>\n",
       "  </tbody>\n",
       "</table>\n",
       "</div>"
      ],
      "text/plain": [
       "  state_name  num_counties                                               link\n",
       "0      Texas           254  https://en.wikipedia.org/wiki/List_of_counties...\n",
       "1    Georgia           159  https://en.wikipedia.org/wiki/List_of_counties...\n",
       "2   Virginia           133  https://en.wikipedia.org/wiki/List_of_counties...\n",
       "3   Kentucky           120  https://en.wikipedia.org/wiki/List_of_counties...\n",
       "4   Missouri           115  https://en.wikipedia.org/wiki/List_of_counties..."
      ]
     },
     "execution_count": 177,
     "metadata": {},
     "output_type": "execute_result"
    }
   ],
   "source": [
    "state_df = pd.DataFrame(states)\n",
    "state_df.head()"
   ]
  },
  {
   "cell_type": "code",
   "execution_count": 178,
   "metadata": {},
   "outputs": [
    {
     "data": {
      "text/plain": [
       "state_name      object\n",
       "num_counties     int64\n",
       "link            object\n",
       "dtype: object"
      ]
     },
     "execution_count": 178,
     "metadata": {},
     "output_type": "execute_result"
    }
   ],
   "source": [
    "state_df.dtypes"
   ]
  },
  {
   "cell_type": "code",
   "execution_count": 179,
   "metadata": {},
   "outputs": [
    {
     "data": {
      "text/plain": [
       "'https://en.wikipedia.org/wiki/List_of_counties_in_Texas'"
      ]
     },
     "execution_count": 179,
     "metadata": {},
     "output_type": "execute_result"
    }
   ],
   "source": [
    "states['link'][0]"
   ]
  },
  {
   "cell_type": "code",
   "execution_count": 217,
   "metadata": {},
   "outputs": [],
   "source": [
    "def get_county_info(num):\n",
    "    url = str(states['link'][num])\n",
    "    res = requests.get(url)\n",
    "    if res.status_code == 200:\n",
    "        cuppa_soup = BeautifulSoup(res.content, 'lxml')\n",
    "        state_table = cuppa_soup.find_all(\"table\")\n",
    "    else:\n",
    "        print('There was an error.  The code is', res.status_code)\n",
    "    return state_table"
   ]
  },
  {
   "cell_type": "code",
   "execution_count": 220,
   "metadata": {},
   "outputs": [],
   "source": [
    "texas = get_county_info(0)"
   ]
  },
  {
   "cell_type": "code",
   "execution_count": 221,
   "metadata": {},
   "outputs": [
    {
     "data": {
      "text/plain": [
       "['County',\n",
       " 'FIPS code[8]',\n",
       " 'County seat[9]',\n",
       " 'Est.[9]',\n",
       " 'Origin',\n",
       " 'Etymology',\n",
       " 'Population[10]',\n",
       " 'Area[9]',\n",
       " 'Map',\n",
       " '']"
      ]
     },
     "execution_count": 221,
     "metadata": {},
     "output_type": "execute_result"
    }
   ],
   "source": [
    "header = texas[1].find(\"tr\").text.split(\"\\n\")\n",
    "for head in header:\n",
    "    if len(head) < 2:\n",
    "        header.remove(head)\n",
    "\n",
    "header"
   ]
  },
  {
   "cell_type": "code",
   "execution_count": 222,
   "metadata": {},
   "outputs": [],
   "source": [
    "georgia = get_county_info(1)"
   ]
  },
  {
   "cell_type": "code",
   "execution_count": 228,
   "metadata": {},
   "outputs": [
    {
     "data": {
      "text/plain": [
       "<tr><td class=\"mbox-image\"><div style=\"width:52px\"><a class=\"image\" href=\"/wiki/File:Question_book-new.svg\"><img alt=\"\" data-file-height=\"399\" data-file-width=\"512\" decoding=\"async\" height=\"39\" src=\"//upload.wikimedia.org/wikipedia/en/thumb/9/99/Question_book-new.svg/50px-Question_book-new.svg.png\" srcset=\"//upload.wikimedia.org/wikipedia/en/thumb/9/99/Question_book-new.svg/75px-Question_book-new.svg.png 1.5x, //upload.wikimedia.org/wikipedia/en/thumb/9/99/Question_book-new.svg/100px-Question_book-new.svg.png 2x\" width=\"50\"/></a></div></td><td class=\"mbox-text\"><div class=\"mbox-text-span\">This section <b>needs additional citations for <a href=\"/wiki/Wikipedia:Verifiability\" title=\"Wikipedia:Verifiability\">verification</a></b>.<span class=\"hide-when-compact\"> Please help <a class=\"external text\" href=\"https://en.wikipedia.org/w/index.php?title=List_of_counties_in_Georgia&amp;action=edit\">improve this article</a> by <a href=\"/wiki/Help:Referencing_for_beginners\" title=\"Help:Referencing for beginners\">adding citations to reliable sources</a>. Unsourced material may be challenged and removed.</span> <small class=\"date-container\"><i>(<span class=\"date\">December 2015</span>)</i></small><small class=\"hide-when-compact\"><i> (<a href=\"/wiki/Help:Maintenance_template_removal\" title=\"Help:Maintenance template removal\">Learn how and when to remove this template message</a>)</i></small></div></td></tr>"
      ]
     },
     "execution_count": 228,
     "metadata": {},
     "output_type": "execute_result"
    }
   ],
   "source": [
    "georgia[1].find(\"tr\")"
   ]
  },
  {
   "cell_type": "code",
   "execution_count": null,
   "metadata": {},
   "outputs": [],
   "source": []
  },
  {
   "cell_type": "code",
   "execution_count": null,
   "metadata": {},
   "outputs": [],
   "source": []
  },
  {
   "cell_type": "code",
   "execution_count": 216,
   "metadata": {},
   "outputs": [
    {
     "data": {
      "text/plain": [
       "['state',\n",
       " 'This section needs additional citations for verification. Please help improve this article by adding citations to reliable sources. Unsourced material may be challenged and removed. (December 2015) (Learn how and when to remove this template message)']"
      ]
     },
     "execution_count": 216,
     "metadata": {},
     "output_type": "execute_result"
    }
   ],
   "source": [
    "header.insert(0, 'state')\n",
    "header"
   ]
  },
  {
   "cell_type": "code",
   "execution_count": 187,
   "metadata": {},
   "outputs": [],
   "source": [
    "header = ['state_name', 'county_name', 'FIPS_code', 'population', 'area']"
   ]
  },
  {
   "cell_type": "code",
   "execution_count": 188,
   "metadata": {},
   "outputs": [],
   "source": [
    "state_name_cnty = []\n",
    "county_name = []\n",
    "fips_code = []\n",
    "population = []\n",
    "area = []\n",
    "counties = {'state_name': state_name_cnty, 'county_name': county_name, \n",
    "            'FIPS_code': fips_code, 'population': population, 'area': area}"
   ]
  },
  {
   "cell_type": "code",
   "execution_count": 190,
   "metadata": {},
   "outputs": [
    {
     "data": {
      "text/plain": [
       "['',\n",
       " 'Anderson County',\n",
       " '',\n",
       " '001',\n",
       " '',\n",
       " 'Palestine',\n",
       " '1846',\n",
       " 'Houston County',\n",
       " 'Kenneth Lewis Anderson (1805–1845), the last vice president of the Republic of Texas',\n",
       " '',\n",
       " '57,741',\n",
       " '',\n",
       " '1,071\\xa0sq\\xa0mi(2,774\\xa0km2)',\n",
       " '',\n",
       " '']"
      ]
     },
     "execution_count": 190,
     "metadata": {},
     "output_type": "execute_result"
    }
   ],
   "source": [
    "texas[1].find_all(\"tr\")[1].text.split(\"\\n\")"
   ]
  },
  {
   "cell_type": "code",
   "execution_count": 205,
   "metadata": {},
   "outputs": [],
   "source": [
    "# demonstrate each entry\n",
    "\n",
    "cnty = texas[1].find_all(\"tr\")[1].text.split(\"\\n\")[1]\n",
    "print(cnty)\n",
    "fips = int(texas[1].find_all(\"tr\")[1].text.split(\"\\n\")[3])\n",
    "print(fips)\n",
    "pop = int(texas[1].find_all(\"tr\")[1].text.split(\"\\n\")[10].replace(',', ''))\n",
    "print(pop)\n",
    "ar = int(texas[1].find_all(\"tr\")[1].text.split(\"\\n\")[10].replace(',',''))\n",
    "print(ar)"
   ]
  },
  {
   "cell_type": "code",
   "execution_count": 180,
   "metadata": {},
   "outputs": [
    {
     "data": {
      "text/plain": [
       "254"
      ]
     },
     "execution_count": 180,
     "metadata": {},
     "output_type": "execute_result"
    }
   ],
   "source": [
    "states['num_counties'][0]"
   ]
  },
  {
   "cell_type": "code",
   "execution_count": 208,
   "metadata": {},
   "outputs": [
    {
     "data": {
      "text/plain": [
       "'Texas'"
      ]
     },
     "execution_count": 208,
     "metadata": {},
     "output_type": "execute_result"
    }
   ],
   "source": [
    "states['state_name'][0]"
   ]
  },
  {
   "cell_type": "code",
   "execution_count": 174,
   "metadata": {},
   "outputs": [
    {
     "data": {
      "text/plain": [
       "dict_keys(['state_name', 'num_counties', 'link'])"
      ]
     },
     "execution_count": 174,
     "metadata": {},
     "output_type": "execute_result"
    }
   ],
   "source": [
    "states.keys()"
   ]
  },
  {
   "cell_type": "code",
   "execution_count": 181,
   "metadata": {},
   "outputs": [
    {
     "data": {
      "text/plain": [
       "3"
      ]
     },
     "execution_count": 181,
     "metadata": {},
     "output_type": "execute_result"
    }
   ],
   "source": [
    "len(states)"
   ]
  },
  {
   "cell_type": "markdown",
   "metadata": {},
   "source": [
    "### Create a dictionary of the counties with the data scraped from their pages\n",
    "Turns out this won't work because each state's wiki county page is structured differently. This structure that we careated above only works for Texas"
   ]
  },
  {
   "cell_type": "code",
   "execution_count": 212,
   "metadata": {},
   "outputs": [
    {
     "name": "stdout",
     "output_type": "stream",
     "text": [
      "successfully accessed Texas's county data\n",
      "fially folks ......\n",
      "successfully accessed Georgia's county data\n",
      "fially folks ......\n",
      "successfully accessed Virginia's county data\n",
      "fially folks ......\n",
      "successfully accessed Kentucky's county data\n",
      "fially folks ......\n",
      "successfully accessed Missouri's county data\n",
      "fially folks ......\n",
      "successfully accessed Kansas's county data\n",
      "fially folks ......\n",
      "successfully accessed Illinois's county data\n",
      "fially folks ......\n",
      "successfully accessed North Carolina's county data\n",
      "fially folks ......\n",
      "successfully accessed Iowa's county data\n",
      "fially folks ......\n",
      "successfully accessed Tennessee's county data\n",
      "fially folks ......\n",
      "successfully accessed Nebraska's county data\n",
      "fially folks ......\n",
      "successfully accessed Indiana's county data\n",
      "fially folks ......\n",
      "successfully accessed Ohio's county data\n",
      "fially folks ......\n",
      "successfully accessed Minnesota's county data\n",
      "fially folks ......\n",
      "successfully accessed Michigan's county data\n",
      "fially folks ......\n",
      "successfully accessed Mississippi's county data\n",
      "fially folks ......\n",
      "successfully accessed Puerto Rico's county data\n",
      "fially folks ......\n",
      "successfully accessed Oklahoma's county data\n",
      "fially folks ......\n",
      "successfully accessed Arkansas's county data\n",
      "fially folks ......\n",
      "successfully accessed Wisconsin's county data\n",
      "fially folks ......\n",
      "successfully accessed Alabama's county data\n",
      "fially folks ......\n",
      "successfully accessed Florida's county data\n",
      "fially folks ......\n",
      "successfully accessed Pennsylvania's county data\n",
      "fially folks ......\n",
      "successfully accessed South Dakota's county data\n",
      "fially folks ......\n",
      "successfully accessed Colorado's county data\n",
      "fially folks ......\n",
      "successfully accessed Louisiana's county data\n",
      "fially folks ......\n",
      "successfully accessed New York's county data\n",
      "fially folks ......\n",
      "successfully accessed California's county data\n",
      "fially folks ......\n",
      "successfully accessed Montana's county data\n",
      "fially folks ......\n",
      "successfully accessed West Virginia's county data\n",
      "fially folks ......\n",
      "successfully accessed North Dakota's county data\n",
      "fially folks ......\n",
      "successfully accessed South Carolina's county data\n",
      "fially folks ......\n",
      "successfully accessed Idaho's county data\n",
      "fially folks ......\n",
      "successfully accessed Washington's county data\n",
      "fially folks ......\n",
      "successfully accessed Oregon's county data\n",
      "fially folks ......\n",
      "successfully accessed New Mexico's county data\n",
      "fially folks ......\n",
      "successfully accessed Alaska's county data\n",
      "fially folks ......\n",
      "successfully accessed Utah's county data\n",
      "fially folks ......\n",
      "successfully accessed Maryland's county data\n",
      "fially folks ......\n",
      "successfully accessed Wyoming's county data\n",
      "fially folks ......\n",
      "successfully accessed New Jersey's county data\n",
      "fially folks ......\n",
      "successfully accessed Nevada's county data\n",
      "fially folks ......\n",
      "successfully accessed Maine's county data\n",
      "fially folks ......\n",
      "successfully accessed Arizona's county data\n",
      "fially folks ......\n",
      "successfully accessed Massachusetts's county data\n",
      "fially folks ......\n",
      "successfully accessed Vermont's county data\n",
      "fially folks ......\n",
      "successfully accessed New Hampshire's county data\n",
      "fially folks ......\n",
      "successfully accessed U.S. Minor Outlying Islands's county data\n",
      "fially folks ......\n",
      "successfully accessed Connecticut's county data\n",
      "fially folks ......\n",
      "successfully accessed American Samoa's county data\n",
      "fially folks ......\n",
      "successfully accessed Hawaii's county data\n",
      "fially folks ......\n",
      "successfully accessed Rhode Island's county data\n",
      "fially folks ......\n",
      "successfully accessed Northern Mariana Islands's county data\n",
      "fially folks ......\n",
      "successfully accessed Delaware's county data\n",
      "fially folks ......\n",
      "successfully accessed Virgin Islands (U.S.)'s county data\n",
      "fially folks ......\n",
      "successfully accessed District of Columbia's county data\n",
      "fially folks ......\n",
      "successfully accessed Guam's county data\n",
      "fially folks ......\n",
      "57\n"
     ]
    }
   ],
   "source": [
    "count=0\n",
    "for link in states['link']:\n",
    "    # use the link that we are in to access the state's county page in wikipedia\n",
    "    url = str(link)\n",
    "    res = requests.get(url)\n",
    "    try:\n",
    "        # create a beautiful soup object\n",
    "        cuppa_soup = BeautifulSoup(res.content, 'lxml')\n",
    "        tabs = cuppa_soup.find_all(\"table\")\n",
    "        suc = states['state_name'][count]\n",
    "        print(f'successfully accessed {suc}\\'s county data')\n",
    "        count+=1\n",
    "    except:\n",
    "        print('There was an error.  The code is', res.status_code)\n",
    "        err = states['state_name'][count]\n",
    "        print(f'the state of error is {err}')\n",
    "        count+=1\n",
    "        \n",
    "    finally:\n",
    "        print('fially folks ......')\n",
    "    \n",
    "print(count)\n",
    "    "
   ]
  },
  {
   "cell_type": "code",
   "execution_count": null,
   "metadata": {},
   "outputs": [],
   "source": []
  }
 ],
 "metadata": {
  "kernelspec": {
   "display_name": "Python 3",
   "language": "python",
   "name": "python3"
  },
  "language_info": {
   "codemirror_mode": {
    "name": "ipython",
    "version": 3
   },
   "file_extension": ".py",
   "mimetype": "text/x-python",
   "name": "python",
   "nbconvert_exporter": "python",
   "pygments_lexer": "ipython3",
   "version": "3.7.6"
  }
 },
 "nbformat": 4,
 "nbformat_minor": 4
}
